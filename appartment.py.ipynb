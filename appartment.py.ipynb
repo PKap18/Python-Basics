{
 "cells": [
  {
   "cell_type": "code",
   "execution_count": null,
   "metadata": {},
   "outputs": [],
   "source": [
    "from bs4 import BeautifulSoup\n",
    "import requests\n",
    "from requests import get\n",
    "import pandas as pd\n",
    "import csv"
   ]
  },
  {
   "cell_type": "code",
   "execution_count": null,
   "metadata": {},
   "outputs": [],
   "source": [
    "headers = ({'User-Agent':\n",
    "'Mozilla/5.0 (Windows NT 10.0; Win64; x64) AppleWebKit/537.36 (KHTML, like Gecko) Chrome/76.0.3809.132 Safari/537.36'})"
   ]
  },
  {
   "cell_type": "code",
   "execution_count": null,
   "metadata": {},
   "outputs": [],
   "source": [
    "\n",
    "url='https://www.apartments.com/hartford-ct/over-500/student-housing/'\n",
    "apt_name=[]\n",
    "apt_link=[]\n",
    "apt_address=[]\n",
    "apt_price=[]\n",
    "apt_contact=[]\n",
    "apt_availability=[]\n",
    "# apt_url=apt_url+str(pg)+'/'\n",
    "# print(apt_url)"
   ]
  },
  {
   "cell_type": "code",
   "execution_count": null,
   "metadata": {},
   "outputs": [],
   "source": [
    "# scrape data from Appartments.com for Hartford,CT location \n",
    "pg=1\n",
    "apt_url=url\n",
    "apt_url=apt_url+str(pg)+'/'\n",
    "print(apt_url)\n",
    "response=requests.get(apt_url,headers=headers)\n",
    "soup = BeautifulSoup(response.text, 'html.parser')\n",
    "\n",
    "# Get page count to know the number of pages the results are spread across and accordingly update URL for each page.\n",
    "for a in soup.findAll('div',{'id':'paging'}):\n",
    "    for link in a.findAll('a'):\n",
    "        if len(link.text.strip())>0:\n",
    "            val=str(link.text.strip())\n",
    "\n",
    "#  Iterate through each page and fetch the details - name of the society, link, price, address, contact number & availability          \n",
    "for pg in range (1,int(val)+1):    \n",
    "    apt_url=url+str(pg)+'/'\n",
    "    print(\"Page being hit is: \",apt_url)\n",
    "    response=requests.get(apt_url,headers=headers)\n",
    "    soup = BeautifulSoup(response.text, 'html.parser')\n",
    "\n",
    "    if(response.status_code == 200):\n",
    "        \n",
    "        for name in soup.findAll('a',{'class':'placardTitle'}):\n",
    "#            print(name.text)\n",
    "            apt_name.append(str(name.text))\n",
    "\n",
    "        for link in soup.findAll(\"a\", {\"class\": \"placardTitle js-placardTitle \"}):\n",
    "#            print(link.get('href'))\n",
    "            apt_link.append(link.get('href'))\n",
    "        \n",
    "        for address in soup.findAll('div',{'class':'location'}):\n",
    "#            print(address.text)\n",
    "            apt_address.append(address.text)\n",
    "        \n",
    "        for spans in soup.findAll('span',{'class':\"altRentDisplay\"}):\n",
    "#            print(spans.text)\n",
    "            apt_price.append(spans.text)\n",
    "        \n",
    "        for ph in soup.findAll('div',{'class':\"phone\"}):\n",
    "#            print(ph.find('span').text)\n",
    "            apt_contact.append(ph.find('span').text)\n",
    "        \n",
    "        for spans in soup.findAll('span',{'class':\"availabilityDisplay\"}):\n",
    "            print(spans.text)\n",
    "            apt_availability.append(spans.text)\n",
    "        \n",
    "        pg=pg+1\n",
    "\n",
    "        "
   ]
  },
  {
   "cell_type": "code",
   "execution_count": null,
   "metadata": {},
   "outputs": [],
   "source": [
    "# move data to the dataframe and write to a csv\n",
    "apt_df=pd.Dataframe(columns=['apt_name','apt_URL','apt_address','contact','price','availability_status'])\n",
    "\n",
    "apt_df['apt_name']=apt_name\n",
    "apt_df['apt_URL']=apt_link\n",
    "apt_df['apt_address']=apt_address\n",
    "apt_df['contact']=apt_contact\n",
    "apt_df['price']=apt_price\n",
    "apt_df['availability_status']=apt_availability\n",
    "\n",
    "apt_df.to_csv(\"E:\\Hartford_appartment_list.csv\",header=True, Index=none)"
   ]
  }
 ],
 "metadata": {
  "kernelspec": {
   "display_name": "Python 3",
   "language": "python",
   "name": "python3"
  },
  "language_info": {
   "codemirror_mode": {
    "name": "ipython",
    "version": 3
   },
   "file_extension": ".py",
   "mimetype": "text/x-python",
   "name": "python",
   "nbconvert_exporter": "python",
   "pygments_lexer": "ipython3",
   "version": "3.7.1"
  }
 },
 "nbformat": 4,
 "nbformat_minor": 2
}
